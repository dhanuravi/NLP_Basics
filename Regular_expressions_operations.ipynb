{
  "nbformat": 4,
  "nbformat_minor": 0,
  "metadata": {
    "colab": {
      "name": "Regular expressions operations.ipynb",
      "provenance": []
    },
    "kernelspec": {
      "name": "python3",
      "display_name": "Python 3"
    }
  },
  "cells": [
    {
      "cell_type": "code",
      "metadata": {
        "id": "Nr-wOYJIUNY6"
      },
      "source": [
        "import re"
      ],
      "execution_count": null,
      "outputs": []
    },
    {
      "cell_type": "markdown",
      "metadata": {
        "id": "mE42f9F6UweT"
      },
      "source": [
        "re.match - search the given pattern from start of the string"
      ]
    },
    {
      "cell_type": "code",
      "metadata": {
        "colab": {
          "base_uri": "https://localhost:8080/"
        },
        "id": "ymyLKGz5UTNx",
        "outputId": "e12cc35e-f4d5-40d9-dfad-4eabe3b88fa9"
      },
      "source": [
        "result = re.match(r'd','dhanuja ravi')\n",
        "print(result)\n",
        "print(\"string =\",result.group(0))\n",
        "print(\"start_posi\",result.start())\n",
        "print(\"end_posi\",result.end())\n",
        "result = re.match(r'ravi','dhanuja ravi')\n",
        "print(result)\n",
        "#print(\"string =\",result.group(0))"
      ],
      "execution_count": null,
      "outputs": [
        {
          "output_type": "stream",
          "text": [
            "<_sre.SRE_Match object; span=(0, 1), match='d'>\n",
            "string = d\n",
            "start_posi 0\n",
            "end_posi 1\n"
          ],
          "name": "stdout"
        }
      ]
    },
    {
      "cell_type": "markdown",
      "metadata": {
        "id": "K-wKE8eEVmP6"
      },
      "source": [
        "search -> search the patter in all over text"
      ]
    },
    {
      "cell_type": "code",
      "metadata": {
        "colab": {
          "base_uri": "https://localhost:8080/"
        },
        "id": "5bmKUt7CUjeN",
        "outputId": "e7308dd9-2e41-4b8b-ac81-86dc46707c3f"
      },
      "source": [
        "result = re.search(r'ja','dhanuja ravi')\n",
        "print(result)\n",
        "print(\"string =\",result.group(0))\n",
        "print(\"start_posi\",result.start())\n",
        "print(\"end_posi\",result.end())"
      ],
      "execution_count": null,
      "outputs": [
        {
          "output_type": "stream",
          "text": [
            "<_sre.SRE_Match object; span=(5, 7), match='ja'>\n",
            "string = ja\n",
            "start_posi 5\n",
            "end_posi 7\n"
          ],
          "name": "stdout"
        }
      ]
    },
    {
      "cell_type": "markdown",
      "metadata": {
        "id": "IWqfPxxTV-gn"
      },
      "source": [
        "findall - It helps to get a list of all matching patterns. It has no constraints of searching from start or end."
      ]
    },
    {
      "cell_type": "code",
      "metadata": {
        "colab": {
          "base_uri": "https://localhost:8080/"
        },
        "id": "rjOgF_-CUtNv",
        "outputId": "1289cc9c-b6af-4238-d039-2cd967e51409"
      },
      "source": [
        "result = re.findall(r'a','dhanuja ravi')\n",
        "print(result)\n",
        "print(type(result))\n",
        "print(len(result))"
      ],
      "execution_count": null,
      "outputs": [
        {
          "output_type": "stream",
          "text": [
            "['a', 'a', 'a']\n",
            "<class 'list'>\n",
            "3\n"
          ],
          "name": "stdout"
        }
      ]
    },
    {
      "cell_type": "markdown",
      "metadata": {
        "id": "O-CaS3PzVVjm"
      },
      "source": [
        "split -> split the string by the occurrences of given pattern."
      ]
    },
    {
      "cell_type": "code",
      "metadata": {
        "colab": {
          "base_uri": "https://localhost:8080/"
        },
        "id": "MpiG2OQRWraQ",
        "outputId": "7a1d7775-5f14-45d4-cf4f-f3e5d5685150"
      },
      "source": [
        "result = re.split('a','dhanuja ravi')\n",
        "print(result)"
      ],
      "execution_count": null,
      "outputs": [
        {
          "output_type": "stream",
          "text": [
            "['dh', 'nuj', ' r', 'vi']\n"
          ],
          "name": "stdout"
        }
      ]
    },
    {
      "cell_type": "code",
      "metadata": {
        "colab": {
          "base_uri": "https://localhost:8080/"
        },
        "id": "Y98rfzT6W0_1",
        "outputId": "a22c0430-6884-4f9f-e1f2-1fe3a8c50d11"
      },
      "source": [
        "result = re.sub('bad','good','dhanuja is a bad girl')\n",
        "print(result)"
      ],
      "execution_count": null,
      "outputs": [
        {
          "output_type": "stream",
          "text": [
            "dhanuja is a good girl\n"
          ],
          "name": "stdout"
        }
      ]
    },
    {
      "cell_type": "code",
      "metadata": {
        "colab": {
          "base_uri": "https://localhost:8080/"
        },
        "id": "iNcYFV_uXI_4",
        "outputId": "a77c7444-b8fa-4e86-c431-d847c5fa92d5"
      },
      "source": [
        "import re\n",
        "pattern=re.compile('AV')\n",
        "result=pattern.findall('AV Analytics Vidhya AV')\n",
        "print(result)\n",
        "result2=pattern.findall('AV is largest analytics community of India')\n",
        "print (result2)"
      ],
      "execution_count": null,
      "outputs": [
        {
          "output_type": "stream",
          "text": [
            "['AV', 'AV']\n",
            "['AV']\n"
          ],
          "name": "stdout"
        }
      ]
    },
    {
      "cell_type": "code",
      "metadata": {
        "id": "NwuiaMaSXVm3"
      },
      "source": [
        ""
      ],
      "execution_count": null,
      "outputs": []
    }
  ]
}