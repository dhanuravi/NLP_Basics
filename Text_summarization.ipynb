{
  "nbformat": 4,
  "nbformat_minor": 0,
  "metadata": {
    "colab": {
      "name": "Text_summarization.ipynb",
      "provenance": [],
      "collapsed_sections": []
    },
    "kernelspec": {
      "name": "python3",
      "display_name": "Python 3"
    }
  },
  "cells": [
    {
      "cell_type": "code",
      "metadata": {
        "id": "pUsBb4dLcTql"
      },
      "source": [
        "import warnings\n",
        "warnings.filterwarnings(\"ignore\")"
      ],
      "execution_count": null,
      "outputs": []
    },
    {
      "cell_type": "code",
      "metadata": {
        "id": "zaMfQyFVdAva"
      },
      "source": [
        "from gensim.summarization import summarize"
      ],
      "execution_count": null,
      "outputs": []
    },
    {
      "cell_type": "code",
      "metadata": {
        "id": "-iCTn2IAdK8L"
      },
      "source": [
        "input_text =\"The nativity of Jesus or birth of Jesus is described in the gospels of Luke and Matthew. The two accounts agree that Jesus was born in Bethlehem in the time of Herod the Great, that his mother Mary was married to Joseph, who was of Davidic descent and was not his biological father, and that his birth was effected by divine intervention, but the two gospels agree on little else. Matthew does not mention the census, annunciation to the shepherds or presentation in the Temple, and does not give the name of the angel that appeared to Joseph to foretell the birth. In Luke there is no mention of Magi, no flight into Egypt, or Massacre of the Innocents, and the angel who announces the coming birth to Mary is named (as Gabriel).The consensus of scholars is that both gospels were written about AD 75-85, and while it is possible that one account might be based on the other, or that the two share common source material, the majority conclusion is that, in respect of the nativity story, the two are independent of each other.[1]In Christian theology the nativity marks the birth of Jesus in fulfillment of the divine will of God, to save the world from sin. The artistic depiction of the nativity has been an important subject for Christian artists since the 4th century. Since the 13th century, the nativity scene has emphasized the humility of Jesus and promoted a more tender image of him, as a major turning point from the early \"\"Lord and Master\"\" image, mirroring changes in the common approaches taken by Christian pastoral ministry.[3][4][5]The nativity plays a major role in the Christian liturgical year. Christian congregations of the Western tradition (including the Catholic Church, the Western Rite Orthodox, the Anglican Communion, and many Protestants) begin observing the season of Advent four Sundays before Christmas, the traditional feast-day of his birth, which falls on December 25.\""
      ],
      "execution_count": null,
      "outputs": []
    },
    {
      "cell_type": "code",
      "metadata": {
        "colab": {
          "base_uri": "https://localhost:8080/"
        },
        "id": "yJ9VXCusdzHV",
        "outputId": "a5497d4c-bd44-4437-bd41-aa1344f815b1"
      },
      "source": [
        "print(len(input_text))\n",
        "print(len(input_text.split()))"
      ],
      "execution_count": null,
      "outputs": [
        {
          "output_type": "stream",
          "text": [
            "1903\n",
            "321\n"
          ],
          "name": "stdout"
        }
      ]
    },
    {
      "cell_type": "code",
      "metadata": {
        "colab": {
          "base_uri": "https://localhost:8080/"
        },
        "id": "1cyJhNDld-kJ",
        "outputId": "553e96c8-5ab0-411e-9e78-468cc0e4b692"
      },
      "source": [
        "ot = summarize(input_text)\n",
        "print(ot)\n",
        "print(len(ot))\n",
        "print(len(ot.split()))"
      ],
      "execution_count": null,
      "outputs": [
        {
          "output_type": "stream",
          "text": [
            "In Luke there is no mention of Magi, no flight into Egypt, or Massacre of the Innocents, and the angel who announces the coming birth to Mary is named (as Gabriel).The consensus of scholars is that both gospels were written about AD 75-85, and while it is possible that one account might be based on the other, or that the two share common source material, the majority conclusion is that, in respect of the nativity story, the two are independent of each other.[1]In Christian theology the nativity marks the birth of Jesus in fulfillment of the divine will of God, to save the world from sin.\n",
            "594\n",
            "106\n"
          ],
          "name": "stdout"
        }
      ]
    },
    {
      "cell_type": "code",
      "metadata": {
        "colab": {
          "base_uri": "https://localhost:8080/"
        },
        "id": "8PYbg801eKuC",
        "outputId": "a74c570e-4d9e-4a29-b6d2-35c3ad1f10be"
      },
      "source": [
        "ot = summarize(input_text,split=True)  #To get result as a list of string\n",
        "print(ot)\n",
        "print(len(ot))\n",
        "#print(len(ot.split()))"
      ],
      "execution_count": null,
      "outputs": [
        {
          "output_type": "stream",
          "text": [
            "['In Luke there is no mention of Magi, no flight into Egypt, or Massacre of the Innocents, and the angel who announces the coming birth to Mary is named (as Gabriel).The consensus of scholars is that both gospels were written about AD 75-85, and while it is possible that one account might be based on the other, or that the two share common source material, the majority conclusion is that, in respect of the nativity story, the two are independent of each other.[1]In Christian theology the nativity marks the birth of Jesus in fulfillment of the divine will of God, to save the world from sin.']\n",
            "1\n"
          ],
          "name": "stdout"
        }
      ]
    },
    {
      "cell_type": "code",
      "metadata": {
        "colab": {
          "base_uri": "https://localhost:8080/",
          "height": 166
        },
        "id": "9iYUDwnEea5x",
        "outputId": "f0632f76-8231-4e24-91f1-f372094fe310"
      },
      "source": [
        "summarize(input_text,ratio=0.3)"
      ],
      "execution_count": null,
      "outputs": [
        {
          "output_type": "execute_result",
          "data": {
            "application/vnd.google.colaboratory.intrinsic+json": {
              "type": "string"
            },
            "text/plain": [
              "'The two accounts agree that Jesus was born in Bethlehem in the time of Herod the Great, that his mother Mary was married to Joseph, who was of Davidic descent and was not his biological father, and that his birth was effected by divine intervention, but the two gospels agree on little else.\\nIn Luke there is no mention of Magi, no flight into Egypt, or Massacre of the Innocents, and the angel who announces the coming birth to Mary is named (as Gabriel).The consensus of scholars is that both gospels were written about AD 75-85, and while it is possible that one account might be based on the other, or that the two share common source material, the majority conclusion is that, in respect of the nativity story, the two are independent of each other.[1]In Christian theology the nativity marks the birth of Jesus in fulfillment of the divine will of God, to save the world from sin.'"
            ]
          },
          "metadata": {
            "tags": []
          },
          "execution_count": 14
        }
      ]
    },
    {
      "cell_type": "code",
      "metadata": {
        "colab": {
          "base_uri": "https://localhost:8080/",
          "height": 110
        },
        "id": "fV4K8LZdfNfV",
        "outputId": "5a2d6bab-984a-4277-c796-3b6642c26dd1"
      },
      "source": [
        "summarize(input_text,word_count=100)"
      ],
      "execution_count": null,
      "outputs": [
        {
          "output_type": "execute_result",
          "data": {
            "application/vnd.google.colaboratory.intrinsic+json": {
              "type": "string"
            },
            "text/plain": [
              "'In Luke there is no mention of Magi, no flight into Egypt, or Massacre of the Innocents, and the angel who announces the coming birth to Mary is named (as Gabriel).The consensus of scholars is that both gospels were written about AD 75-85, and while it is possible that one account might be based on the other, or that the two share common source material, the majority conclusion is that, in respect of the nativity story, the two are independent of each other.[1]In Christian theology the nativity marks the birth of Jesus in fulfillment of the divine will of God, to save the world from sin.'"
            ]
          },
          "metadata": {
            "tags": []
          },
          "execution_count": 16
        }
      ]
    },
    {
      "cell_type": "code",
      "metadata": {
        "colab": {
          "base_uri": "https://localhost:8080/"
        },
        "id": "PZq7IPADfRqP",
        "outputId": "c222affa-a695-4971-c82d-6e5d21276746"
      },
      "source": [
        "len(summarize(input_text,word_count=100).split())"
      ],
      "execution_count": null,
      "outputs": [
        {
          "output_type": "execute_result",
          "data": {
            "text/plain": [
              "106"
            ]
          },
          "metadata": {
            "tags": []
          },
          "execution_count": 17
        }
      ]
    },
    {
      "cell_type": "markdown",
      "metadata": {
        "id": "WJxPPoIHgUKx"
      },
      "source": [
        "you can find location of summary text using find and index fucntion"
      ]
    },
    {
      "cell_type": "code",
      "metadata": {
        "id": "5Kp4wg7Lfgj2"
      },
      "source": [
        "# maintext.find(summary_text)\n",
        "# maintext.index(summary_text)\n",
        "# but maintext should be the text file in read mode not a string variable"
      ],
      "execution_count": null,
      "outputs": []
    },
    {
      "cell_type": "code",
      "metadata": {
        "id": "ChuO8dXHf1VE"
      },
      "source": [
        ""
      ],
      "execution_count": null,
      "outputs": []
    }
  ]
}